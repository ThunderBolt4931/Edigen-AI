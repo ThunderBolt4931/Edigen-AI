{
 "cells": [
  {
   "cell_type": "code",
   "execution_count": null,
   "id": "541cc53e-57a3-4cff-9c73-75aac8038c72",
   "metadata": {
    "scrolled": true
   },
   "outputs": [],
   "source": [
    "#!wget -P /ComfyUI_Data/models/unet_gguf https://huggingface.co/YarvixPA/FLUX.1-Fill-dev-GGUF/resolve/main/flux1-fill-dev-Q5_0.gguf\n",
    "!wget --header=\"Authorization: Bearer <your-huggingface-token>\" \\\n",
    "     -P /ComfyUI_Data/models/unet \\\n",
    "     \"https://huggingface.co/boricuapab/flux1-fill-dev-fp8/resolve/main/flux1-fill-dev-fp8.safetensors\"\n",
    "!wget -P /ComfyUI_Data/models/upscale_models https://huggingface.co/uwg/upscaler/resolve/main/ESRGAN/4x_NMKD-Siax_200k.pth\n",
    "\n"
   ]
  },
  {
   "cell_type": "code",
   "execution_count": null,
   "id": "2acfb45d-d20c-4d8e-8d9b-e2a06d838148",
   "metadata": {
    "scrolled": true
   },
   "outputs": [],
   "source": [
    "!wget -P /ComfyUI_Data/models/clip_vision https://huggingface.co/Comfy-Org/sigclip_vision_384/resolve/main/sigclip_vision_patch14_384.safetensors"
   ]
  },
  {
   "cell_type": "code",
   "execution_count": null,
   "id": "0e03202a-54bb-4d14-b0aa-79b04133934c",
   "metadata": {},
   "outputs": [],
   "source": [
    "!wget -P /ComfyUI_Data/models/loras https://huggingface.co/alimama-creative/FLUX.1-Turbo-Alpha/resolve/main/diffusion_pytorch_model.safetensors"
   ]
  },
  {
   "cell_type": "code",
   "execution_count": null,
   "id": "c77f6ed3-c94a-4f2c-9cf5-7d25d3afeab9",
   "metadata": {
    "scrolled": true
   },
   "outputs": [],
   "source": [
    "!wget -P /ComfyUI_Data/models/clip https://huggingface.co/comfyanonymous/flux_text_encoders/resolve/main/clip_l.safetensors"
   ]
  },
  {
   "cell_type": "code",
   "execution_count": null,
   "id": "5baff666-ec97-46ca-961c-03892443d92f",
   "metadata": {
    "scrolled": true
   },
   "outputs": [],
   "source": [
    "!wget -P /ComfyUI_Data/models/ipadapter-flux https://huggingface.co/InstantX/FLUX.1-dev-IP-Adapter/resolve/main/ip-adapter.bin"
   ]
  },
  {
   "cell_type": "code",
   "execution_count": null,
   "id": "25b69c10-f8f0-46bb-89be-9f0e88727330",
   "metadata": {},
   "outputs": [],
   "source": [
    "!wget -P /ComfyUI_Data/models/clip https://huggingface.co/comfyanonymous/flux_text_encoders/resolve/main/t5xxl_fp8_e4m3fn.safetensors"
   ]
  },
  {
   "cell_type": "code",
   "execution_count": null,
   "id": "683e6276-01bd-4bc9-b211-361896cad2cf",
   "metadata": {},
   "outputs": [],
   "source": [
    "from huggingface_hub import snapshot_download\n",
    "snapshot_download(repo_id=\"google/siglip-so400m-patch14-384\", repo_type=\"model\", local_dir=\"/ComfyUI_Data/models/clip_vision\")\n"
   ]
  },
  {
   "cell_type": "code",
   "execution_count": null,
   "id": "e7342a42-ede3-4221-ab6e-e22a44b1537a",
   "metadata": {
    "scrolled": true
   },
   "outputs": [],
   "source": [
    "!wget --header=\"Authorization: Bearer <your-huggingface-token>\" \\\n",
    "     -P /ComfyUI_Data/models/vae \\\n",
    "     \"https://huggingface.co/black-forest-labs/FLUX.1-schnell/resolve/main/ae.safetensors\"\n"
   ]
  },
  {
   "cell_type": "code",
   "execution_count": null,
   "id": "7e5ffd3b-3f98-43b7-a6b5-1fdc81903ed1",
   "metadata": {},
   "outputs": [],
   "source": [
    "%cd /ComfyUI/custom_nodes\n",
    "!git clone https://github.com/lrzjason/Comfyui-In-Context-Lora-Utils.git"
   ]
  },
  {
   "cell_type": "code",
   "execution_count": null,
   "id": "c9790fb2-928a-4835-b7ef-c9f8fcdaeb77",
   "metadata": {
    "scrolled": true
   },
   "outputs": [],
   "source": [
    "!apt-get update && apt-get install -y libglib2.0-0"
   ]
  },
  {
   "cell_type": "code",
   "execution_count": null,
   "id": "ca32d2e1-57e7-41b6-b820-ead43f4a1358",
   "metadata": {
    "scrolled": true
   },
   "outputs": [],
   "source": [
    "!wget --header=\"Authorization: Bearer <your-huggingface-token>\" \\\n",
    "     -P /ComfyUI_Data/models/style_models \\\n",
    "     \"https://huggingface.co/black-forest-labs/FLUX.1-Redux-dev/resolve/main/flux1-redux-dev.safetensors\"\n"
   ]
  },
  {
   "cell_type": "code",
   "execution_count": null,
   "id": "9d736b0e-cd55-4271-bef9-0076d22c9aa0",
   "metadata": {
    "scrolled": true
   },
   "outputs": [],
   "source": [
    "!wget --header=\"Authorization: Bearer <your-huggingface-token>\" \\\n",
    "     -P /ComfyUI_Data/models/loras \\\n",
    "     \"https://huggingface.co/xiaozaa/catvton-flux-lora-alpha/resolve/main/pytorch_lora_weights.safetensors\"\n",
    "\n"
   ]
  },
  {
   "cell_type": "code",
   "execution_count": null,
   "id": "32e63a00-8f2f-4eff-b488-44fcd6cb792d",
   "metadata": {
    "scrolled": true
   },
   "outputs": [],
   "source": [
    "\n",
    "snapshot_download(repo_id=\"alimama-creative/FLUX.1-dev-Controlnet-Inpainting-Alpha\", repo_type=\"model\", local_dir=\"/ComfyUI_Data/models/controlnet\")"
   ]
  },
  {
   "cell_type": "code",
   "execution_count": null,
   "id": "cb70c14b",
   "metadata": {},
   "outputs": [],
   "source": [
    "!wget -P /ComfyUI_Data/models/loras https://huggingface.co/fofr/flux-handwriting/resolve/main/lora.safetensors"
   ]
  },
  {
   "cell_type": "code",
   "execution_count": null,
   "id": "9af1acba",
   "metadata": {},
   "outputs": [],
   "source": [
    "\n",
    "snapshot_download(repo_id=\"jasperai/Flux.1-dev-Controlnet-Upscaler\", repo_type=\"model\", local_dir=\"/ComfyUI_Data/models/controlnet\")\n"
   ]
  },
  {
   "cell_type": "code",
   "execution_count": null,
   "id": "74f02fe4",
   "metadata": {},
   "outputs": [],
   "source": [
    "!wget -P /ComfyUI_Data/models/loras https://huggingface.co/ali-vilab/ACE_Plus/resolve/main/portrait/comfyui_portrait_lora64.safetensors"
   ]
  },
  {
   "cell_type": "code",
   "execution_count": null,
   "id": "65e2a124-d1a6-4f19-ab74-e018edc23841",
   "metadata": {},
   "outputs": [],
   "source": [
    "!wget -P /ComfyUI_Data/models/clip https://huggingface.co/Aitrepreneur/FLX/resolve/main/ViT-L-14-TEXT-detail-improved-hiT-GmP-TE-only-HF.safetensors"
   ]
  }
 ],
 "metadata": {
  "kernelspec": {
   "display_name": "Python 3 (ipykernel)",
   "language": "python",
   "name": "python3"
  },
  "language_info": {
   "codemirror_mode": {
    "name": "ipython",
    "version": 3
   },
   "file_extension": ".py",
   "mimetype": "text/x-python",
   "name": "python",
   "nbconvert_exporter": "python",
   "pygments_lexer": "ipython3",
   "version": "3.12.6"
  }
 },
 "nbformat": 4,
 "nbformat_minor": 5
}
